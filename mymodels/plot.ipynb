{
 "cells": [
  {
   "cell_type": "code",
   "execution_count": 1,
   "metadata": {},
   "outputs": [],
   "source": [
    "from utils import plot_grid_image_masks, overlay_mask\n",
    "import os\n"
   ]
  },
  {
   "cell_type": "code",
   "execution_count": 6,
   "metadata": {},
   "outputs": [],
   "source": [
    "image_path='result_masks\\\\chunk_800_1600.JPEG'\n",
    "mask_path='validation_images\\\\chunk_800_1600.jpg'\n",
    "\n",
    "# plot_images_with_masks(original_folder='validation_images', mask_folder='result_masks')\n",
    "# plot_grid_image_masks(original_folder='validation_images', mask_folder='result_masks')\n",
    "\n",
    "original_images = os.listdir('result_masks')\n",
    "masks = os.listdir('validation_images')\n",
    "save_path='results_layers\\\\'\n",
    "\n",
    "for image in original_images:\n",
    "\n",
    "    overlayed_mask=overlay_mask(img_path=f'validation_images\\\\{image}', mask_path=f'result_masks\\\\{image}')\n",
    "    os.makedirs(os.path.dirname(save_path), exist_ok=True)\n",
    "    overlayed_mask.save(f'{save_path}\\\\{image}')\n",
    "\n"
   ]
  },
  {
   "cell_type": "code",
   "execution_count": null,
   "metadata": {},
   "outputs": [],
   "source": []
  },
  {
   "cell_type": "code",
   "execution_count": null,
   "metadata": {},
   "outputs": [],
   "source": []
  }
 ],
 "metadata": {
  "kernelspec": {
   "display_name": "myenv",
   "language": "python",
   "name": "python3"
  },
  "language_info": {
   "codemirror_mode": {
    "name": "ipython",
    "version": 3
   },
   "file_extension": ".py",
   "mimetype": "text/x-python",
   "name": "python",
   "nbconvert_exporter": "python",
   "pygments_lexer": "ipython3",
   "version": "3.11.1"
  }
 },
 "nbformat": 4,
 "nbformat_minor": 2
}

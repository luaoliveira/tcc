{
 "cells": [
  {
   "cell_type": "code",
   "execution_count": 1,
   "metadata": {},
   "outputs": [],
   "source": [
    "from utils import plot_images_with_masks\n",
    "from graphics import plot_false_negatives_positives\n"
   ]
  },
  {
   "cell_type": "code",
   "execution_count": null,
   "metadata": {},
   "outputs": [],
   "source": [
    "plot_images_with_masks(original_folder='validation_images', mask_folder='U2NET-NOFT_result_masks', model_name='u2net_noft')"
   ]
  },
  {
   "cell_type": "code",
   "execution_count": 3,
   "metadata": {},
   "outputs": [
    {
     "name": "stderr",
     "output_type": "stream",
     "text": [
      "[ WARN:0@19.507] global loadsave.cpp:241 findDecoder imread_('/validation_masks/chunk_800_1600.jpg'): can't open/read file: check file path/integrity\n",
      "[ WARN:0@19.508] global loadsave.cpp:241 findDecoder imread_('/U2NET_result_masks/chunk_800_1600.jpg'): can't open/read file: check file path/integrity\n"
     ]
    },
    {
     "ename": "AttributeError",
     "evalue": "'NoneType' object has no attribute 'shape'",
     "output_type": "error",
     "traceback": [
      "\u001b[0;31m---------------------------------------------------------------------------\u001b[0m",
      "\u001b[0;31mAttributeError\u001b[0m                            Traceback (most recent call last)",
      "Cell \u001b[0;32mIn[3], line 1\u001b[0m\n\u001b[0;32m----> 1\u001b[0m \u001b[43mplot_false_negatives_positives\u001b[49m\u001b[43m(\u001b[49m\u001b[43mground_truth_path\u001b[49m\u001b[38;5;241;43m=\u001b[39;49m\u001b[38;5;124;43m'\u001b[39;49m\u001b[38;5;124;43m/validation_masks/chunk_800_1600.jpg\u001b[39;49m\u001b[38;5;124;43m'\u001b[39;49m\u001b[43m,\u001b[49m\u001b[43m \u001b[49m\u001b[43mpredicted_mask_path\u001b[49m\u001b[38;5;241;43m=\u001b[39;49m\u001b[38;5;124;43m'\u001b[39;49m\u001b[38;5;124;43m/U2NET_result_masks/chunk_800_1600.jpg\u001b[39;49m\u001b[38;5;124;43m'\u001b[39;49m\u001b[43m)\u001b[49m\n",
      "File \u001b[0;32m~/Documents/tcc/mymodels/graphics.py:139\u001b[0m, in \u001b[0;36mplot_false_negatives_positives\u001b[0;34m(ground_truth_path, predicted_mask_path)\u001b[0m\n\u001b[1;32m    136\u001b[0m false_negatives \u001b[38;5;241m=\u001b[39m np\u001b[38;5;241m.\u001b[39mlogical_and(predicted_mask \u001b[38;5;241m==\u001b[39m \u001b[38;5;241m0\u001b[39m, ground_truth \u001b[38;5;241m==\u001b[39m \u001b[38;5;241m1\u001b[39m)  \u001b[38;5;66;03m# Predicted 0, Actual 1\u001b[39;00m\n\u001b[1;32m    138\u001b[0m \u001b[38;5;66;03m# Create an empty color map for visualization\u001b[39;00m\n\u001b[0;32m--> 139\u001b[0m display_image \u001b[38;5;241m=\u001b[39m np\u001b[38;5;241m.\u001b[39mzeros((\u001b[38;5;241m*\u001b[39m\u001b[43mground_truth\u001b[49m\u001b[38;5;241;43m.\u001b[39;49m\u001b[43mshape\u001b[49m, \u001b[38;5;241m3\u001b[39m), dtype\u001b[38;5;241m=\u001b[39mnp\u001b[38;5;241m.\u001b[39muint8)\n\u001b[1;32m    141\u001b[0m \u001b[38;5;66;03m# Color false positives red and false negatives blue\u001b[39;00m\n\u001b[1;32m    142\u001b[0m display_image[false_positives] \u001b[38;5;241m=\u001b[39m [\u001b[38;5;241m255\u001b[39m, \u001b[38;5;241m0\u001b[39m, \u001b[38;5;241m0\u001b[39m]  \u001b[38;5;66;03m# Red for false positives\u001b[39;00m\n",
      "\u001b[0;31mAttributeError\u001b[0m: 'NoneType' object has no attribute 'shape'"
     ]
    }
   ],
   "source": [
    "plot_false_negatives_positives(ground_truth_path='validation_masks/chunk_800_1600.jpg', predicted_mask_path='U2NET_result_masks/chunk_800_1600.jpg')"
   ]
  },
  {
   "cell_type": "code",
   "execution_count": null,
   "metadata": {},
   "outputs": [],
   "source": []
  }
 ],
 "metadata": {
  "kernelspec": {
   "display_name": "ultralytics",
   "language": "python",
   "name": "python3"
  },
  "language_info": {
   "codemirror_mode": {
    "name": "ipython",
    "version": 3
   },
   "file_extension": ".py",
   "mimetype": "text/x-python",
   "name": "python",
   "nbconvert_exporter": "python",
   "pygments_lexer": "ipython3",
   "version": "3.12.2"
  }
 },
 "nbformat": 4,
 "nbformat_minor": 2
}
